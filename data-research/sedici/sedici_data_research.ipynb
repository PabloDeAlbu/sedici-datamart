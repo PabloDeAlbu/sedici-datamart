{
 "cells": [
  {
   "cell_type": "markdown",
   "metadata": {},
   "source": [
    "# SEDICI"
   ]
  },
  {
   "cell_type": "code",
   "execution_count": 1,
   "metadata": {},
   "outputs": [],
   "source": [
    "import pandas as pd\n",
    "import numpy as np\n",
    "from sickle import Sickle"
   ]
  },
  {
   "cell_type": "code",
   "execution_count": 2,
   "metadata": {},
   "outputs": [],
   "source": [
    "sickle = Sickle('http://sedici.unlp.edu.ar/oai/snrd')\n",
    "records = sickle.ListRecords(\n",
    "             **{'metadataPrefix': 'oai_dc',\n",
    "             'from': '2022-01-01'\n",
    "            })"
   ]
  },
  {
   "cell_type": "code",
   "execution_count": 3,
   "metadata": {},
   "outputs": [],
   "source": [
    "rc = records.next()"
   ]
  },
  {
   "cell_type": "code",
   "execution_count": 4,
   "metadata": {},
   "outputs": [
    {
     "data": {
      "text/plain": [
       "{'identifier': ['http://sedici.unlp.edu.ar/handle/10915/1364',\n",
       "  'https://doi.org/10.35537/10915/1364'],\n",
       " 'title': ['Estudio de catalizadores metálicos soportados aplicados a reacciones de reformación de metano a gas de síntesis'],\n",
       " 'creator': ['Pompeo, Francisco'],\n",
       " 'date': ['2008'],\n",
       " 'contributor': ['Nichio, Nora Nancy', 'Cornaglia, Laura', 'Amadeo, Norma'],\n",
       " 'language': ['spa'],\n",
       " 'subject': ['Ingeniería',\n",
       "  'Ingeniería Química',\n",
       "  'Síntesis química',\n",
       "  'Tecnología química',\n",
       "  'Gases',\n",
       "  'Catálisis'],\n",
       " 'description': ['Este trabajo de tesis propone desarrollar catalizadores de Ni a base de un soporte de alfa alúmina modificado por la adición de CeO₂ y/o ZrO₂; y determinar el efecto de estas modificaciones del soporte sobre las propiedades finales de los catalizadores estudiados. Se pone especial énfasis en la selección de métodos de preparación sencillos. La naturaleza de las fases catalíticas se estudiará mediante un amplio número de técnicas de caracterización.\\r\\nLa evaluación de las propiedades catalíticas estará dirigida a estudiar las reacciones de reformación de gas natural con vapor de agua (SR), oxidación parcial de metano (POM), reformación de metano con dióxido de carbono (DR) y la reformación combinada de metano (MR) con oxígeno y agua, poniendo especial énfasis en el estudio de la estabilidad de los sistemas catalíticos preparados.',\n",
       "  'Material digitalizado en SEDICI gracias a la Biblioteca de la Facultad de Ingeniería (UNLP).',\n",
       "  'Facultad de Ingenieria'],\n",
       " 'type': ['info:eu-repo/semantics/doctoralThesis',\n",
       "  'info:ar-repo/semantics/tesis doctoral',\n",
       "  'info:eu-repo/semantics/acceptedVersion',\n",
       "  'Tesis de doctorado'],\n",
       " 'rights': ['info:eu-repo/semantics/openAccess',\n",
       "  'http://creativecommons.org/licenses/by-nc-sa/4.0/',\n",
       "  'Creative Commons Attribution-NonCommercial-ShareAlike 4.0 International (CC BY-NC-SA 4.0)'],\n",
       " 'format': ['application/pdf']}"
      ]
     },
     "execution_count": 4,
     "metadata": {},
     "output_type": "execute_result"
    }
   ],
   "source": [
    "rc.get_metadata()"
   ]
  },
  {
   "cell_type": "code",
   "execution_count": 24,
   "metadata": {},
   "outputs": [
    {
     "data": {
      "text/plain": [
       "['Nichio, Nora Nancy', 'Cornaglia, Laura', 'Amadeo, Norma']"
      ]
     },
     "execution_count": 24,
     "metadata": {},
     "output_type": "execute_result"
    }
   ],
   "source": [
    "meta = rc.get_metadata()\n",
    "meta['contributor']"
   ]
  },
  {
   "cell_type": "code",
   "execution_count": 32,
   "metadata": {},
   "outputs": [],
   "source": [
    "df_pub = pd.DataFrame(columns=rc.get_metadata().keys())"
   ]
  },
  {
   "cell_type": "code",
   "execution_count": 35,
   "metadata": {},
   "outputs": [
    {
     "name": "stdout",
     "output_type": "stream",
     "text": [
      "0\n",
      "6\n"
     ]
    }
   ],
   "source": [
    "i = 0\n",
    "pub_dict = {}\n",
    "for pub in records:\n",
    "    print(i)\n",
    "    print(len(meta['subject']))\n",
    "    \n",
    "    meta = pub.get_metadata()\n",
    "    pub_dict = {\n",
    "        'identifier': meta['identifier'][0] if 'identifier' in meta else None,\n",
    "        # chequear other title\n",
    "        # 'title': meta['title'][0] if 'title' in meta else None,\n",
    "        # 'creator': meta['creator'] if 'creator' in meta else None,\n",
    "        'date': meta['date'][0] if 'date' in meta else None,\n",
    "        # 'contributor': meta['contributor'] if 'contributor' in meta else None,\n",
    "        'language': meta['language'][0] if 'language' in meta else None,\n",
    "        'subject': meta['subject'] if 'subject' in meta else None,\n",
    "        'description': meta['description'] if 'description' in meta else None,\n",
    "        'type': meta['type'][0] if 'type' in meta else None,\n",
    "        'rights': meta['rights'][0] if 'rights' in meta else None,\n",
    "        'format': meta['format'] if 'format' in meta else None\n",
    "    }\n",
    "    i += 1\n",
    "    df_pub = df_pub.append(pub_dict, ignore_index=True)\n",
    "    break\n",
    "\n"
   ]
  },
  {
   "cell_type": "code",
   "execution_count": 34,
   "metadata": {},
   "outputs": [
    {
     "data": {
      "text/html": [
       "<div>\n",
       "<style scoped>\n",
       "    .dataframe tbody tr th:only-of-type {\n",
       "        vertical-align: middle;\n",
       "    }\n",
       "\n",
       "    .dataframe tbody tr th {\n",
       "        vertical-align: top;\n",
       "    }\n",
       "\n",
       "    .dataframe thead th {\n",
       "        text-align: right;\n",
       "    }\n",
       "</style>\n",
       "<table border=\"1\" class=\"dataframe\">\n",
       "  <thead>\n",
       "    <tr style=\"text-align: right;\">\n",
       "      <th></th>\n",
       "      <th>identifier</th>\n",
       "      <th>title</th>\n",
       "      <th>creator</th>\n",
       "      <th>date</th>\n",
       "      <th>contributor</th>\n",
       "      <th>language</th>\n",
       "      <th>subject</th>\n",
       "      <th>description</th>\n",
       "      <th>type</th>\n",
       "      <th>rights</th>\n",
       "      <th>format</th>\n",
       "    </tr>\n",
       "  </thead>\n",
       "  <tbody>\n",
       "    <tr>\n",
       "      <th>0</th>\n",
       "      <td>http://sedici.unlp.edu.ar/handle/10915/58026</td>\n",
       "      <td>NaN</td>\n",
       "      <td>NaN</td>\n",
       "      <td>2016</td>\n",
       "      <td>NaN</td>\n",
       "      <td>spa</td>\n",
       "      <td>[Comunicación, cultura popular, Lectura, lectu...</td>\n",
       "      <td>[Se propone un análisis de la lectura y los le...</td>\n",
       "      <td>info:eu-repo/semantics/article</td>\n",
       "      <td>info:eu-repo/semantics/openAccess</td>\n",
       "      <td>[application/pdf, 185-205]</td>\n",
       "    </tr>\n",
       "  </tbody>\n",
       "</table>\n",
       "</div>"
      ],
      "text/plain": [
       "                                     identifier title creator  date  \\\n",
       "0  http://sedici.unlp.edu.ar/handle/10915/58026   NaN     NaN  2016   \n",
       "\n",
       "  contributor language                                            subject  \\\n",
       "0         NaN      spa  [Comunicación, cultura popular, Lectura, lectu...   \n",
       "\n",
       "                                         description  \\\n",
       "0  [Se propone un análisis de la lectura y los le...   \n",
       "\n",
       "                             type                             rights  \\\n",
       "0  info:eu-repo/semantics/article  info:eu-repo/semantics/openAccess   \n",
       "\n",
       "                       format  \n",
       "0  [application/pdf, 185-205]  "
      ]
     },
     "execution_count": 34,
     "metadata": {},
     "output_type": "execute_result"
    }
   ],
   "source": [
    "df_pub"
   ]
  },
  {
   "cell_type": "code",
   "execution_count": 13,
   "metadata": {},
   "outputs": [
    {
     "data": {
      "text/plain": [
       "<OAIItemIterator ListSets>"
      ]
     },
     "execution_count": 13,
     "metadata": {},
     "output_type": "execute_result"
    }
   ],
   "source": [
    "sets = sickle.ListSets()\n",
    "sets"
   ]
  }
 ],
 "metadata": {
  "kernelspec": {
   "display_name": "Python 3.8.13 ('dw')",
   "language": "python",
   "name": "python3"
  },
  "language_info": {
   "codemirror_mode": {
    "name": "ipython",
    "version": 3
   },
   "file_extension": ".py",
   "mimetype": "text/x-python",
   "name": "python",
   "nbconvert_exporter": "python",
   "pygments_lexer": "ipython3",
   "version": "3.8.13"
  },
  "orig_nbformat": 4,
  "vscode": {
   "interpreter": {
    "hash": "42aa6e2e09442382e19700e69b764e702a22be06bab1eb2e1641527b59004541"
   }
  }
 },
 "nbformat": 4,
 "nbformat_minor": 2
}
