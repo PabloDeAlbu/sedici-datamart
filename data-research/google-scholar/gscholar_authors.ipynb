{
 "cells": [
  {
   "cell_type": "markdown",
   "metadata": {},
   "source": [
    "Utilizamos la herramienta librería [Scholarly](https://scholarly.readthedocs.io/) "
   ]
  },
  {
   "cell_type": "code",
   "execution_count": 24,
   "metadata": {},
   "outputs": [],
   "source": [
    "from scholarly import scholarly"
   ]
  },
  {
   "cell_type": "markdown",
   "metadata": {},
   "source": [
    "Busco la organización Universidad Nacional de La Plata a partir de su nombre"
   ]
  },
  {
   "cell_type": "code",
   "execution_count": 25,
   "metadata": {},
   "outputs": [
    {
     "data": {
      "text/plain": [
       "[{'Organization': 'National University of La Plata',\n",
       "  'id': '18050997564342690566'}]"
      ]
     },
     "execution_count": 25,
     "metadata": {},
     "output_type": "execute_result"
    }
   ],
   "source": [
    "orgs = scholarly.search_org('Universidad Nacional de La Plata')\n",
    "orgs"
   ]
  },
  {
   "cell_type": "markdown",
   "metadata": {},
   "source": [
    "Y a través de su identificador en GS, recupero sus autores"
   ]
  },
  {
   "cell_type": "code",
   "execution_count": 26,
   "metadata": {},
   "outputs": [],
   "source": [
    "search_query = scholarly.search_author_by_organization(orgs[0]['id'])"
   ]
  },
  {
   "cell_type": "code",
   "execution_count": 27,
   "metadata": {},
   "outputs": [
    {
     "data": {
      "text/plain": [
       "{'container_type': 'Author',\n",
       " 'filled': [],\n",
       " 'source': <AuthorSource.SEARCH_AUTHOR_SNIPPETS: 'SEARCH_AUTHOR_SNIPPETS'>,\n",
       " 'scholar_id': 'WJp137kAAAAJ',\n",
       " 'url_picture': 'https://scholar.google.com/citations?view_op=medium_photo&user=WJp137kAAAAJ',\n",
       " 'name': 'María Teresa Dova',\n",
       " 'affiliation': 'Professor of Physics, Universidad Nacional de La Plata, IFLP(CONICET/UNLP)',\n",
       " 'email_domain': '@fisica.unlp.edu.ar',\n",
       " 'interests': ['High Energy Physics', 'Cosmic rays'],\n",
       " 'citedby': 274008}"
      ]
     },
     "execution_count": 27,
     "metadata": {},
     "output_type": "execute_result"
    }
   ],
   "source": [
    "author = next(search_query)\n",
    "#author = scholarly.fill(author, sections=['basics', 'citations', 'counts'])\n",
    "author"
   ]
  },
  {
   "cell_type": "markdown",
   "metadata": {},
   "source": [
    "Para evitar enviar demasiadas requests a GS y no ser bloqueados, los datos que se obtienen en el iterador son los básicos. Es posible pedir información adicional del autor a patir del mensaje *fill()*. \n",
    "\n",
    "En general, a Google Scholar no le gustan los bots, y a menudo puede bloquear scholarly, especialmente aquellas páginas que contienen *scholar?* en la URL. La solución más común para evitar los problemas de red es utilizar proxies y Tor. [Ver](https://ohyicong.medium.com/how-to-create-tor-proxy-with-python-cheat-sheet-101-3d2d619a1d39)\n",
    "\n",
    "Para evitar bloqueos por parte de Google Scholar, pediremos información adiciional sobre métricas y cantidad de citas por año"
   ]
  },
  {
   "cell_type": "code",
   "execution_count": 28,
   "metadata": {},
   "outputs": [
    {
     "data": {
      "text/html": [
       "<div>\n",
       "<style scoped>\n",
       "    .dataframe tbody tr th:only-of-type {\n",
       "        vertical-align: middle;\n",
       "    }\n",
       "\n",
       "    .dataframe tbody tr th {\n",
       "        vertical-align: top;\n",
       "    }\n",
       "\n",
       "    .dataframe thead th {\n",
       "        text-align: right;\n",
       "    }\n",
       "</style>\n",
       "<table border=\"1\" class=\"dataframe\">\n",
       "  <thead>\n",
       "    <tr style=\"text-align: right;\">\n",
       "      <th></th>\n",
       "      <th>container_type</th>\n",
       "      <th>filled</th>\n",
       "      <th>source</th>\n",
       "      <th>scholar_id</th>\n",
       "      <th>url_picture</th>\n",
       "      <th>name</th>\n",
       "      <th>affiliation</th>\n",
       "      <th>email_domain</th>\n",
       "      <th>interests</th>\n",
       "      <th>citedby</th>\n",
       "    </tr>\n",
       "  </thead>\n",
       "  <tbody>\n",
       "  </tbody>\n",
       "</table>\n",
       "</div>"
      ],
      "text/plain": [
       "Empty DataFrame\n",
       "Columns: [container_type, filled, source, scholar_id, url_picture, name, affiliation, email_domain, interests, citedby]\n",
       "Index: []"
      ]
     },
     "execution_count": 28,
     "metadata": {},
     "output_type": "execute_result"
    }
   ],
   "source": [
    "import pandas as pd\n",
    "\n",
    "df = pd.DataFrame(columns=author.keys())\n",
    "df"
   ]
  },
  {
   "cell_type": "code",
   "execution_count": 29,
   "metadata": {},
   "outputs": [
    {
     "data": {
      "text/html": [
       "<div>\n",
       "<style scoped>\n",
       "    .dataframe tbody tr th:only-of-type {\n",
       "        vertical-align: middle;\n",
       "    }\n",
       "\n",
       "    .dataframe tbody tr th {\n",
       "        vertical-align: top;\n",
       "    }\n",
       "\n",
       "    .dataframe thead th {\n",
       "        text-align: right;\n",
       "    }\n",
       "</style>\n",
       "<table border=\"1\" class=\"dataframe\">\n",
       "  <thead>\n",
       "    <tr style=\"text-align: right;\">\n",
       "      <th></th>\n",
       "      <th>container_type</th>\n",
       "      <th>filled</th>\n",
       "      <th>source</th>\n",
       "      <th>scholar_id</th>\n",
       "      <th>url_picture</th>\n",
       "      <th>name</th>\n",
       "      <th>affiliation</th>\n",
       "      <th>email_domain</th>\n",
       "      <th>interests</th>\n",
       "      <th>citedby</th>\n",
       "    </tr>\n",
       "  </thead>\n",
       "  <tbody>\n",
       "    <tr>\n",
       "      <th>0</th>\n",
       "      <td>Author</td>\n",
       "      <td>[]</td>\n",
       "      <td>AuthorSource.SEARCH_AUTHOR_SNIPPETS</td>\n",
       "      <td>WJp137kAAAAJ</td>\n",
       "      <td>https://scholar.google.com/citations?view_op=m...</td>\n",
       "      <td>María Teresa Dova</td>\n",
       "      <td>Professor of Physics, Universidad Nacional de ...</td>\n",
       "      <td>@fisica.unlp.edu.ar</td>\n",
       "      <td>[High Energy Physics, Cosmic rays]</td>\n",
       "      <td>274008</td>\n",
       "    </tr>\n",
       "  </tbody>\n",
       "</table>\n",
       "</div>"
      ],
      "text/plain": [
       "  container_type filled                               source    scholar_id  \\\n",
       "0         Author     []  AuthorSource.SEARCH_AUTHOR_SNIPPETS  WJp137kAAAAJ   \n",
       "\n",
       "                                         url_picture               name  \\\n",
       "0  https://scholar.google.com/citations?view_op=m...  María Teresa Dova   \n",
       "\n",
       "                                         affiliation         email_domain  \\\n",
       "0  Professor of Physics, Universidad Nacional de ...  @fisica.unlp.edu.ar   \n",
       "\n",
       "                            interests citedby  \n",
       "0  [High Energy Physics, Cosmic rays]  274008  "
      ]
     },
     "execution_count": 29,
     "metadata": {},
     "output_type": "execute_result"
    }
   ],
   "source": [
    "for index in author:\n",
    "    author[index] = ([(author[index])])\n",
    "\n",
    "df.append(pd.DataFrame(author))\n"
   ]
  }
 ],
 "metadata": {
  "kernelspec": {
   "display_name": "Python 3.8.13 ('dw')",
   "language": "python",
   "name": "python3"
  },
  "language_info": {
   "codemirror_mode": {
    "name": "ipython",
    "version": 3
   },
   "file_extension": ".py",
   "mimetype": "text/x-python",
   "name": "python",
   "nbconvert_exporter": "python",
   "pygments_lexer": "ipython3",
   "version": "3.8.13"
  },
  "orig_nbformat": 4,
  "vscode": {
   "interpreter": {
    "hash": "42aa6e2e09442382e19700e69b764e702a22be06bab1eb2e1641527b59004541"
   }
  }
 },
 "nbformat": 4,
 "nbformat_minor": 2
}
