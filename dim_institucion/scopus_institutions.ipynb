{
 "cells": [
  {
   "cell_type": "markdown",
   "metadata": {},
   "source": [
    "# Scopus"
   ]
  },
  {
   "cell_type": "markdown",
   "metadata": {},
   "source": [
    "Para recuperar los datos de Scopus se va a utilizar la libreria de [pybliometrics](https://pybliometrics.readthedocs.io/en/stable/index.html). Para eso es necesario utilizar una credencial que será almacenada en un archivo de configuración. Más información en [Configuration](https://pybliometrics.readthedocs.io/en/stable/configuration.html)"
   ]
  },
  {
   "cell_type": "code",
   "execution_count": 2,
   "metadata": {},
   "outputs": [],
   "source": [
    "import os\n",
    "from pathlib import Path\n",
    "from os import path\n",
    "\n",
    "main_path = Path.cwd().parent\n",
    "os.environ['PYB_CONFIG_FILE'] = \"{main_path}/config/scopus_config.ini\".format(main_path = main_path)\n",
    "\n",
    "import pybliometrics\n",
    "\n",
    "if (not path.exists(os.environ['PYB_CONFIG_FILE'])):\n",
    "    pybliometrics.scopus.utils.create_config()"
   ]
  },
  {
   "cell_type": "markdown",
   "metadata": {},
   "source": [
    "Para recuperar datos sobre instituciones de Scopus, se utiliza la [Affiliation Retrieval API\n",
    "](https://dev.elsevier.com/documentation/AffiliationRetrievalAPI.wadl) y una instancia de la clase [AffiliationRetrieval](https://pybliometrics.readthedocs.io/en/stable/classes/AffiliationRetrieval.html)"
   ]
  },
  {
   "cell_type": "code",
   "execution_count": 3,
   "metadata": {},
   "outputs": [],
   "source": [
    "import pandas as pd\n",
    "from pybliometrics.scopus import AffiliationRetrieval"
   ]
  },
  {
   "cell_type": "markdown",
   "metadata": {},
   "source": [
    "Se recueperan datos de la Universidad Nacional de La Plata a través del identificador **'60032057'** y lo agrego a una lista llamada *affiliations*"
   ]
  },
  {
   "cell_type": "code",
   "execution_count": 11,
   "metadata": {},
   "outputs": [
    {
     "name": "stdout",
     "output_type": "stream",
     "text": [
      "Universidad Nacional de La Plata in La Plata in Argentina,\n",
      "has 3,317 associated author(s) and 15,900 associated document(s) as of 2022-11-01\n"
     ]
    }
   ],
   "source": [
    "affilliations = []\n",
    "\n",
    "aff = AffiliationRetrieval(60032057)\n",
    "print(aff)\n",
    "\n",
    "affilliations.append(aff)"
   ]
  },
  {
   "cell_type": "markdown",
   "metadata": {},
   "source": [
    "La clase AffiliationRetrieval esta compuesta por:\n",
    "* **address**\n",
    "La dirección de la afiliación.\n",
    "\n",
    "* **affiliation_name**\n",
    "El nombre de la afiliación.\n",
    "\n",
    "* **author_count**\n",
    "Número de autores asociados a la afiliación.\n",
    "\n",
    "* **city**\n",
    "La ciudad de la afiliación.\n",
    "\n",
    "* **country**\n",
    "El país de la afiliación.\n",
    "\n",
    "* **date_created**\n",
    "Fecha de creación del registro de Scopus.\n",
    "\n",
    "* **document_count**\n",
    "Número de documentos de la afiliación.\n",
    "\n",
    "* **eid**\n",
    "El EID de la afiliación. Represenado en wikidata a través de la propiedad [P1154](https://www.wikidata.org/wiki/Property:P1154 )\n",
    "\n",
    "* **identifier**\n",
    "El ID de Scopus de la afiliación.\n",
    "\n",
    "* **name_variants**\n",
    "Una lista de namedtuples que representan variantes del nombre de la afiliación con el número de documentos que se refieren a esta variante.\n",
    "\n",
    "* **org_domain**\n",
    "Tipo de afiliación. Requiere la vista ESTÁNDAR y sólo está presente si el perfil es de tipo org.\n",
    "\n",
    "* **org_type**\n",
    "Sitio web de la afiliación. Requiere la vista STANDARD.\n",
    "\n",
    "* **org_URL**\n",
    "Sitio web de la afiliación. Requiere la vista STANDARD.\n",
    "\n",
    "* **postal_code**\n",
    "El código postal de la afiliación. Requiere la vista STANDARD.\n",
    "\n",
    "* **scopus_affiliation_link**\n",
    "Enlace a la vista web de Scopus de la afiliación.\n",
    "\n",
    "* **self_link**\n",
    "Enlace a la página API de la afiliación.\n",
    "\n",
    "* **search_link**\n",
    "URL to the API page listing documents of the affiliation.\n",
    "\n",
    "* **state**\n",
    "Estado (subunidad administrativa del país) de la afiliación. Requiere la vista STANDARD.\n",
    "\n",
    "* **sort_name**\n",
    "El nombre de la afiliación utilizado para la clasificación. Requiere la vista STANDARD.\n",
    "\n",
    "* **url**\n",
    "URL de la página API de la afiliación.\n"
   ]
  },
  {
   "cell_type": "markdown",
   "metadata": {},
   "source": [
    "En la interfaz web de Scopus se puede observar que las instituciones se representan en una jerarquía y también se relacionan entre si a partir de una relación de colaboración. \n",
    "\n",
    " ![Scopus Affiliation Hierarchy](assets/images/scopus_affiliation_hierarchy.jpeg)\n",
    "\n",
    "Al parecer no se puede obtener estos datos a partir de la API por lo que se va a utilizar la [AuthorRetrieval](https://pybliometrics.readthedocs.io/en/stable/classes/AuthorRetrieval.html) para que a través de [AuthorRetrievalAPI](https://dev.elsevier.com/documentation/AuthorRetrievalAPI.wadl) obtener los autores cuyos trabajos tengan filiación UNLP. Una vez obtenido los autores, se obtendrá las filiaciones a las cuales pertenece cada uno, para agregarlas a un datamart.\n"
   ]
  },
  {
   "cell_type": "code",
   "execution_count": 6,
   "metadata": {},
   "outputs": [],
   "source": [
    "from pybliometrics.scopus import AuthorSearch\n",
    "author_search = AuthorSearch('AF-ID(60032057)')\n",
    "pd.set_option('display.max_columns', None)\n",
    "df = pd.DataFrame(author_search.authors)\n",
    "aff_ids = df['affiliation_id'].unique()"
   ]
  },
  {
   "cell_type": "markdown",
   "metadata": {},
   "source": [
    "Itero sobre los identificadores obtenidos y recupero cada una de las afiliaciones asociadas a los autores UNLP"
   ]
  },
  {
   "cell_type": "code",
   "execution_count": 12,
   "metadata": {},
   "outputs": [
    {
     "ename": "Scopus401Error",
     "evalue": "The requestor is not authorized to access the requested view or fields of the resource",
     "output_type": "error",
     "traceback": [
      "\u001b[0;31m---------------------------------------------------------------------------\u001b[0m",
      "\u001b[0;31mScopus401Error\u001b[0m                            Traceback (most recent call last)",
      "\u001b[1;32m/home/pablo/dev/dw/sedici-datamart/dim_institucion/dim_institucion.ipynb Celda 12\u001b[0m in \u001b[0;36m<cell line: 1>\u001b[0;34m()\u001b[0m\n\u001b[1;32m      <a href='vscode-notebook-cell:/home/pablo/dev/dw/sedici-datamart/dim_institucion/dim_institucion.ipynb#X14sZmlsZQ%3D%3D?line=0'>1</a>\u001b[0m \u001b[39mfor\u001b[39;00m \u001b[39mid\u001b[39m \u001b[39min\u001b[39;00m aff_ids:\n\u001b[0;32m----> <a href='vscode-notebook-cell:/home/pablo/dev/dw/sedici-datamart/dim_institucion/dim_institucion.ipynb#X14sZmlsZQ%3D%3D?line=1'>2</a>\u001b[0m     affilliations\u001b[39m.\u001b[39mappend(AffiliationRetrieval(\u001b[39mid\u001b[39;49m))\n",
      "File \u001b[0;32m~/anaconda3/envs/dw/lib/python3.8/site-packages/pybliometrics/scopus/affiliation_retrieval.py:168\u001b[0m, in \u001b[0;36mAffiliationRetrieval.__init__\u001b[0;34m(self, aff_id, refresh, view, **kwds)\u001b[0m\n\u001b[1;32m    166\u001b[0m \u001b[39mself\u001b[39m\u001b[39m.\u001b[39m_refresh \u001b[39m=\u001b[39m refresh\n\u001b[1;32m    167\u001b[0m aff_id \u001b[39m=\u001b[39m \u001b[39mstr\u001b[39m(\u001b[39mint\u001b[39m(\u001b[39mstr\u001b[39m(aff_id)\u001b[39m.\u001b[39msplit(\u001b[39m'\u001b[39m\u001b[39m-\u001b[39m\u001b[39m'\u001b[39m)[\u001b[39m-\u001b[39m\u001b[39m1\u001b[39m]))\n\u001b[0;32m--> 168\u001b[0m Retrieval\u001b[39m.\u001b[39;49m\u001b[39m__init__\u001b[39;49m(\u001b[39mself\u001b[39;49m, aff_id, api\u001b[39m=\u001b[39;49m\u001b[39m'\u001b[39;49m\u001b[39mAffiliationRetrieval\u001b[39;49m\u001b[39m'\u001b[39;49m, \u001b[39m*\u001b[39;49m\u001b[39m*\u001b[39;49mkwds)\n\u001b[1;32m    169\u001b[0m \u001b[39mself\u001b[39m\u001b[39m.\u001b[39m_json \u001b[39m=\u001b[39m \u001b[39mself\u001b[39m\u001b[39m.\u001b[39m_json[\u001b[39m'\u001b[39m\u001b[39maffiliation-retrieval-response\u001b[39m\u001b[39m'\u001b[39m]\n\u001b[1;32m    170\u001b[0m \u001b[39mself\u001b[39m\u001b[39m.\u001b[39m_profile \u001b[39m=\u001b[39m \u001b[39mself\u001b[39m\u001b[39m.\u001b[39m_json\u001b[39m.\u001b[39mget(\u001b[39m\"\u001b[39m\u001b[39minstitution-profile\u001b[39m\u001b[39m\"\u001b[39m, {})\n",
      "File \u001b[0;32m~/anaconda3/envs/dw/lib/python3.8/site-packages/pybliometrics/scopus/superclasses/retrieval.py:48\u001b[0m, in \u001b[0;36mRetrieval.__init__\u001b[0;34m(self, identifier, api, id_type, **kwds)\u001b[0m\n\u001b[1;32m     46\u001b[0m \u001b[39m# Parse file contents\u001b[39;00m\n\u001b[1;32m     47\u001b[0m params \u001b[39m=\u001b[39m {\u001b[39m'\u001b[39m\u001b[39mview\u001b[39m\u001b[39m'\u001b[39m: \u001b[39mself\u001b[39m\u001b[39m.\u001b[39m_view, \u001b[39m*\u001b[39m\u001b[39m*\u001b[39mkwds}\n\u001b[0;32m---> 48\u001b[0m Base\u001b[39m.\u001b[39;49m\u001b[39m__init__\u001b[39;49m(\u001b[39mself\u001b[39;49m, params\u001b[39m=\u001b[39;49mparams, url\u001b[39m=\u001b[39;49murl, api\u001b[39m=\u001b[39;49mapi)\n",
      "File \u001b[0;32m~/anaconda3/envs/dw/lib/python3.8/site-packages/pybliometrics/scopus/superclasses/base.py:59\u001b[0m, in \u001b[0;36mBase.__init__\u001b[0;34m(self, params, url, api, download, verbose, *args, **kwds)\u001b[0m\n\u001b[1;32m     57\u001b[0m         \u001b[39mself\u001b[39m\u001b[39m.\u001b[39m_json \u001b[39m=\u001b[39m loads(fname\u001b[39m.\u001b[39mread_text())\n\u001b[1;32m     58\u001b[0m \u001b[39melse\u001b[39;00m:\n\u001b[0;32m---> 59\u001b[0m     resp \u001b[39m=\u001b[39m get_content(url, api, params, \u001b[39m*\u001b[39;49margs, \u001b[39m*\u001b[39;49m\u001b[39m*\u001b[39;49mkwds)\n\u001b[1;32m     60\u001b[0m     header \u001b[39m=\u001b[39m resp\u001b[39m.\u001b[39mheaders\n\u001b[1;32m     61\u001b[0m     \u001b[39mif\u001b[39;00m search_request:\n\u001b[1;32m     62\u001b[0m         \u001b[39m# Get number of results\u001b[39;00m\n",
      "File \u001b[0;32m~/anaconda3/envs/dw/lib/python3.8/site-packages/pybliometrics/scopus/utils/get_content.py:111\u001b[0m, in \u001b[0;36mget_content\u001b[0;34m(url, api, params, **kwds)\u001b[0m\n\u001b[1;32m    109\u001b[0m         \u001b[39mexcept\u001b[39;00m:\n\u001b[1;32m    110\u001b[0m             reason \u001b[39m=\u001b[39m \u001b[39m\"\u001b[39m\u001b[39m\"\u001b[39m\n\u001b[0;32m--> 111\u001b[0m     \u001b[39mraise\u001b[39;00m errors[resp\u001b[39m.\u001b[39mstatus_code](reason)\n\u001b[1;32m    112\u001b[0m \u001b[39mexcept\u001b[39;00m \u001b[39mKeyError\u001b[39;00m:\n\u001b[1;32m    113\u001b[0m     resp\u001b[39m.\u001b[39mraise_for_status()\n",
      "\u001b[0;31mScopus401Error\u001b[0m: The requestor is not authorized to access the requested view or fields of the resource"
     ]
    }
   ],
   "source": [
    "for id in aff_ids:\n",
    "    affilliations.append(AffiliationRetrieval(id))"
   ]
  }
 ],
 "metadata": {
  "kernelspec": {
   "display_name": "Python 3.8.13 ('dw')",
   "language": "python",
   "name": "python3"
  },
  "language_info": {
   "codemirror_mode": {
    "name": "ipython",
    "version": 3
   },
   "file_extension": ".py",
   "mimetype": "text/x-python",
   "name": "python",
   "nbconvert_exporter": "python",
   "pygments_lexer": "ipython3",
   "version": "3.8.13"
  },
  "orig_nbformat": 4,
  "vscode": {
   "interpreter": {
    "hash": "42aa6e2e09442382e19700e69b764e702a22be06bab1eb2e1641527b59004541"
   }
  }
 },
 "nbformat": 4,
 "nbformat_minor": 2
}
