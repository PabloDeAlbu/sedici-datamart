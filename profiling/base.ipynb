{
 "cells": [
  {
   "cell_type": "markdown",
   "metadata": {},
   "source": [
    "# Fuente de datos\n",
    "\n",
    "## Contexto\n",
    "\n",
    "Descripción de la fuente de datos: "
   ]
  },
  {
   "cell_type": "markdown",
   "metadata": {},
   "source": [
    "## Datasets\n",
    "Datasets disponibles:\n",
    "\n",
    "* dataset 1\n"
   ]
  },
  {
   "cell_type": "markdown",
   "metadata": {},
   "source": [
    "### dataset 1\n",
    "\n",
    "* Página de referencia:\n",
    "* Temas: \n",
    "* Licencia:\n",
    "* Fecha de publicación:\n",
    "* Frecuencia de actualización:\n",
    "\n",
    "| Título de la columna | Tipo de dato | Descripción |\n",
    "| ----------- | ----------- | ----------- |\n",
    "| persona_id | Número entero (integer) | Identificador de la persona. Ver recurso Personas  |\n"
   ]
  }
 ],
 "metadata": {
  "kernelspec": {
   "display_name": "Python 3.10.6 64-bit",
   "language": "python",
   "name": "python3"
  },
  "language_info": {
   "name": "python",
   "version": "3.10.6"
  },
  "orig_nbformat": 4,
  "vscode": {
   "interpreter": {
    "hash": "916dbcbb3f70747c44a77c7bcd40155683ae19c65e1c03b4aa3499c5328201f1"
   }
  }
 },
 "nbformat": 4,
 "nbformat_minor": 2
}
