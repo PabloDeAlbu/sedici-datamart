{
 "cells": [
  {
   "cell_type": "markdown",
   "metadata": {},
   "source": [
    "# Scopus"
   ]
  },
  {
   "cell_type": "markdown",
   "metadata": {},
   "source": [
    "[What are Scopus APIs and how are these used?](https://www.elsevier.com/__data/assets/pdf_file/0007/917179/Scopus-User-Community-Germany-API-final.pdf)\n",
    "\n",
    "As an abstracting and indexing database, Scopus captures articles being published in virtually all scholarly journals of any significance in the world; and its profiling of authors and institutions makes it easy to find new articles by those authors at those institutions. \n",
    "\n",
    "The Scopus UI (user interface) offers many features to that end, allowing librarians, researchers, developers and &business intelligence groups to manually find publications originating from their institution that they can then add to their systems. \n",
    "\n",
    "Aside from that user interface, Scopus also has Application Programming Interfaces (APIs)that offer the same features, but then in a machine-readable format that enables software, rather than humans on the UI (User Interface), to find articles, authors and institutions in Scopus.\n",
    "\n",
    "This allows developers to write programs that automatically extract data from Scopus, and add that data to their systems"
   ]
  },
  {
   "cell_type": "markdown",
   "metadata": {},
   "source": [
    "### Data Model\n",
    "\n",
    "The Scopus data model is designed around the notion that **articles** are written by **authors** that are affiliated with **institutions**.\n"
   ]
  },
  {
   "cell_type": "markdown",
   "metadata": {},
   "source": [
    "### Dependencias"
   ]
  },
  {
   "cell_type": "code",
   "execution_count": 17,
   "metadata": {},
   "outputs": [],
   "source": [
    "import os\n",
    "from pathlib import Path\n",
    "from os import path\n",
    "import pandas as pd\n",
    "import pybliometrics\n",
    "from pybliometrics.scopus import AffiliationRetrieval\n",
    "from pybliometrics.scopus import AuthorSearch\n",
    "\n",
    "pd.set_option('display.max_columns', None)\n"
   ]
  },
  {
   "cell_type": "markdown",
   "metadata": {},
   "source": [
    "## Extracción"
   ]
  },
  {
   "cell_type": "markdown",
   "metadata": {},
   "source": [
    "Se va a utilizar la libreria de [pybliometrics](https://pybliometrics.readthedocs.io/en/stable/index.html). \n",
    "\n",
    "Para eso es necesario utilizar una credencial que será almacenada en un archivo de configuración. [Más info](https://pybliometrics.readthedocs.io/en/stable/configuration.html)"
   ]
  },
  {
   "cell_type": "code",
   "execution_count": 2,
   "metadata": {},
   "outputs": [],
   "source": [
    "os.environ['PYB_CONFIG_FILE'] = \"{main_path}/config/scopus_config.ini\".format(main_path = Path.cwd().parent.parent.parent)\n",
    "\n",
    "if (not path.exists(os.environ['PYB_CONFIG_FILE'])):\n",
    "    # TODO no esta creando el archivo de configuración en la carpeta indicada, sino en ~/.pybliometrics/config.ini\n",
    "    pybliometrics.scopus.utils.create_config()"
   ]
  },
  {
   "cell_type": "markdown",
   "metadata": {},
   "source": [
    "Para recuperar datos sobre instituciones de Scopus, se utiliza \n",
    "\n",
    "* [Affiliation Retrieval API](https://dev.elsevier.com/documentation/AffiliationRetrievalAPI.wadl) a través de la clase [AffiliationRetrieval](https://pybliometrics.readthedocs.io/en/stable/classes/AffiliationRetrieval.html)\n",
    "* [Author Search API](https://dev.elsevier.com/documentation/AuthorSearchAPI.wadl) a través de la clase [AuthorSearch](https://pybliometrics.readthedocs.io/en/stable/classes/AuthorSearch.html)\n",
    "* [Scopus Search API\n",
    "](https://dev.elsevier.com/documentation/SCOPUSSearchAPI.wadl) a través de la clase [ScopusSearch](https://pybliometrics.readthedocs.io/en/stable/classes/ScopusSearch.html)\n",
    "\n",
    "El proceso de extracción sera\n",
    "\n",
    "1. Se consulta los autores de la UNLP a partir del ID de filiación en Scopus, el '60032057'\n",
    "2. Se almacena los autores en parquet\n",
    "3. Se obtienen las publicaciones de cada autorpara que a partir de la institución de origen de cada autor poder calcular su filiación\n",
    "4. Se almacena la filiación de cada autor y las instituciones en parquet"
   ]
  },
  {
   "cell_type": "code",
   "execution_count": 25,
   "metadata": {},
   "outputs": [
    {
     "name": "stdout",
     "output_type": "stream",
     "text": [
      "Universidad Nacional de La Plata in La Plata in Argentina,\n",
      "has 3,317 associated author(s) and 15,900 associated document(s) as of 2022-11-01\n"
     ]
    },
    {
     "data": {
      "text/html": [
       "<div>\n",
       "<style scoped>\n",
       "    .dataframe tbody tr th:only-of-type {\n",
       "        vertical-align: middle;\n",
       "    }\n",
       "\n",
       "    .dataframe tbody tr th {\n",
       "        vertical-align: top;\n",
       "    }\n",
       "\n",
       "    .dataframe thead th {\n",
       "        text-align: right;\n",
       "    }\n",
       "</style>\n",
       "<table border=\"1\" class=\"dataframe\">\n",
       "  <thead>\n",
       "    <tr style=\"text-align: right;\">\n",
       "      <th></th>\n",
       "      <th>eid</th>\n",
       "      <th>orcid</th>\n",
       "      <th>surname</th>\n",
       "      <th>initials</th>\n",
       "      <th>givenname</th>\n",
       "      <th>affiliation</th>\n",
       "      <th>documents</th>\n",
       "      <th>affiliation_id</th>\n",
       "      <th>city</th>\n",
       "      <th>country</th>\n",
       "      <th>areas</th>\n",
       "    </tr>\n",
       "  </thead>\n",
       "  <tbody>\n",
       "    <tr>\n",
       "      <th>0</th>\n",
       "      <td>9-s2.0-56114080200</td>\n",
       "      <td>None</td>\n",
       "      <td>Castro</td>\n",
       "      <td>E.A.</td>\n",
       "      <td>Eduardo Alberto</td>\n",
       "      <td>Universidad Nacional de La Plata</td>\n",
       "      <td>476</td>\n",
       "      <td>60032057</td>\n",
       "      <td>La Plata</td>\n",
       "      <td>Argentina</td>\n",
       "      <td>CHEM (403); PHYS (281); COMP (114)</td>\n",
       "    </tr>\n",
       "    <tr>\n",
       "      <th>1</th>\n",
       "      <td>9-s2.0-6602863112</td>\n",
       "      <td>None</td>\n",
       "      <td>Azzaroni</td>\n",
       "      <td>O.</td>\n",
       "      <td>Omar</td>\n",
       "      <td>Universidad Nacional de La Plata</td>\n",
       "      <td>241</td>\n",
       "      <td>60032057</td>\n",
       "      <td>La Plata</td>\n",
       "      <td>Argentina</td>\n",
       "      <td>MATE (213); CHEM (189); PHYS (87)</td>\n",
       "    </tr>\n",
       "    <tr>\n",
       "      <th>2</th>\n",
       "      <td>9-s2.0-7005511248</td>\n",
       "      <td>None</td>\n",
       "      <td>Romanelli</td>\n",
       "      <td>G.P.</td>\n",
       "      <td>Gustavo Pablo</td>\n",
       "      <td>Universidad Nacional de La Plata</td>\n",
       "      <td>204</td>\n",
       "      <td>60032057</td>\n",
       "      <td>La Plata</td>\n",
       "      <td>Argentina</td>\n",
       "      <td>CHEM (171); CENG (143); ENVI (52)</td>\n",
       "    </tr>\n",
       "    <tr>\n",
       "      <th>3</th>\n",
       "      <td>9-s2.0-7004101620</td>\n",
       "      <td>0000-0003-2771-7805</td>\n",
       "      <td>Althaus</td>\n",
       "      <td>L.G.</td>\n",
       "      <td>L. G.</td>\n",
       "      <td>Consejo Nacional de Investigaciones Científica...</td>\n",
       "      <td>200</td>\n",
       "      <td>60004518</td>\n",
       "      <td>Buenos Aires</td>\n",
       "      <td>Argentina</td>\n",
       "      <td>EART (169); PHYS (159); ENGI (2)</td>\n",
       "    </tr>\n",
       "    <tr>\n",
       "      <th>4</th>\n",
       "      <td>9-s2.0-7004599588</td>\n",
       "      <td>0000-0003-2954-6675</td>\n",
       "      <td>Muravchik</td>\n",
       "      <td>C.H.</td>\n",
       "      <td>Carlos Horacio</td>\n",
       "      <td>Comision de Investigaciones Cientificas - La P...</td>\n",
       "      <td>159</td>\n",
       "      <td>60020211</td>\n",
       "      <td>La Plata</td>\n",
       "      <td>Argentina</td>\n",
       "      <td>COMP (127); ENGI (121); MATH (24)</td>\n",
       "    </tr>\n",
       "    <tr>\n",
       "      <th>...</th>\n",
       "      <td>...</td>\n",
       "      <td>...</td>\n",
       "      <td>...</td>\n",
       "      <td>...</td>\n",
       "      <td>...</td>\n",
       "      <td>...</td>\n",
       "      <td>...</td>\n",
       "      <td>...</td>\n",
       "      <td>...</td>\n",
       "      <td>...</td>\n",
       "      <td>...</td>\n",
       "    </tr>\n",
       "    <tr>\n",
       "      <th>3312</th>\n",
       "      <td>9-s2.0-12344569900</td>\n",
       "      <td>None</td>\n",
       "      <td>Urcola</td>\n",
       "      <td>U.</td>\n",
       "      <td>U.</td>\n",
       "      <td>Universidad Nacional de La Plata</td>\n",
       "      <td>1</td>\n",
       "      <td>60032057</td>\n",
       "      <td>La Plata</td>\n",
       "      <td>Argentina</td>\n",
       "      <td>MATE (2); PHYS (1); ENGI (1)</td>\n",
       "    </tr>\n",
       "    <tr>\n",
       "      <th>3313</th>\n",
       "      <td>9-s2.0-12140966300</td>\n",
       "      <td>None</td>\n",
       "      <td>Dela Sota</td>\n",
       "      <td>L.</td>\n",
       "      <td>Luzbel</td>\n",
       "      <td>Universidad Nacional de La Plata</td>\n",
       "      <td>1</td>\n",
       "      <td>60032057</td>\n",
       "      <td>La Plata</td>\n",
       "      <td>Argentina</td>\n",
       "      <td>VETE (1)</td>\n",
       "    </tr>\n",
       "    <tr>\n",
       "      <th>3314</th>\n",
       "      <td>9-s2.0-12140525200</td>\n",
       "      <td>None</td>\n",
       "      <td>Legarto</td>\n",
       "      <td>M.L.</td>\n",
       "      <td>María Leticia</td>\n",
       "      <td>Universidad Nacional de La Plata</td>\n",
       "      <td>1</td>\n",
       "      <td>60032057</td>\n",
       "      <td>La Plata</td>\n",
       "      <td>Argentina</td>\n",
       "      <td>CHEM (3); BIOC (1); PHYS (1)</td>\n",
       "    </tr>\n",
       "    <tr>\n",
       "      <th>3315</th>\n",
       "      <td>9-s2.0-12042407300</td>\n",
       "      <td>None</td>\n",
       "      <td>Schamun</td>\n",
       "      <td>A.</td>\n",
       "      <td>Alejandro</td>\n",
       "      <td>Universidad Nacional de La Plata</td>\n",
       "      <td>1</td>\n",
       "      <td>60032057</td>\n",
       "      <td>La Plata</td>\n",
       "      <td>Argentina</td>\n",
       "      <td>PSYC (1); MEDI (1)</td>\n",
       "    </tr>\n",
       "    <tr>\n",
       "      <th>3316</th>\n",
       "      <td>9-s2.0-11640392500</td>\n",
       "      <td>None</td>\n",
       "      <td>Gomez</td>\n",
       "      <td>C.M.</td>\n",
       "      <td>C. M.</td>\n",
       "      <td>Universidad Nacional de La Plata</td>\n",
       "      <td>1</td>\n",
       "      <td>60032057</td>\n",
       "      <td>La Plata</td>\n",
       "      <td>Argentina</td>\n",
       "      <td>IMMU (3); VETE (3); AGRI (3)</td>\n",
       "    </tr>\n",
       "  </tbody>\n",
       "</table>\n",
       "<p>3317 rows × 11 columns</p>\n",
       "</div>"
      ],
      "text/plain": [
       "                     eid                orcid    surname initials  \\\n",
       "0     9-s2.0-56114080200                 None     Castro     E.A.   \n",
       "1      9-s2.0-6602863112                 None   Azzaroni       O.   \n",
       "2      9-s2.0-7005511248                 None  Romanelli     G.P.   \n",
       "3      9-s2.0-7004101620  0000-0003-2771-7805    Althaus     L.G.   \n",
       "4      9-s2.0-7004599588  0000-0003-2954-6675  Muravchik     C.H.   \n",
       "...                  ...                  ...        ...      ...   \n",
       "3312  9-s2.0-12344569900                 None     Urcola       U.   \n",
       "3313  9-s2.0-12140966300                 None  Dela Sota       L.   \n",
       "3314  9-s2.0-12140525200                 None    Legarto     M.L.   \n",
       "3315  9-s2.0-12042407300                 None    Schamun       A.   \n",
       "3316  9-s2.0-11640392500                 None      Gomez     C.M.   \n",
       "\n",
       "            givenname                                        affiliation  \\\n",
       "0     Eduardo Alberto                   Universidad Nacional de La Plata   \n",
       "1                Omar                   Universidad Nacional de La Plata   \n",
       "2       Gustavo Pablo                   Universidad Nacional de La Plata   \n",
       "3               L. G.  Consejo Nacional de Investigaciones Científica...   \n",
       "4      Carlos Horacio  Comision de Investigaciones Cientificas - La P...   \n",
       "...               ...                                                ...   \n",
       "3312               U.                   Universidad Nacional de La Plata   \n",
       "3313           Luzbel                   Universidad Nacional de La Plata   \n",
       "3314    María Leticia                   Universidad Nacional de La Plata   \n",
       "3315        Alejandro                   Universidad Nacional de La Plata   \n",
       "3316            C. M.                   Universidad Nacional de La Plata   \n",
       "\n",
       "      documents affiliation_id          city    country  \\\n",
       "0           476       60032057      La Plata  Argentina   \n",
       "1           241       60032057      La Plata  Argentina   \n",
       "2           204       60032057      La Plata  Argentina   \n",
       "3           200       60004518  Buenos Aires  Argentina   \n",
       "4           159       60020211      La Plata  Argentina   \n",
       "...         ...            ...           ...        ...   \n",
       "3312          1       60032057      La Plata  Argentina   \n",
       "3313          1       60032057      La Plata  Argentina   \n",
       "3314          1       60032057      La Plata  Argentina   \n",
       "3315          1       60032057      La Plata  Argentina   \n",
       "3316          1       60032057      La Plata  Argentina   \n",
       "\n",
       "                                   areas  \n",
       "0     CHEM (403); PHYS (281); COMP (114)  \n",
       "1      MATE (213); CHEM (189); PHYS (87)  \n",
       "2      CHEM (171); CENG (143); ENVI (52)  \n",
       "3       EART (169); PHYS (159); ENGI (2)  \n",
       "4      COMP (127); ENGI (121); MATH (24)  \n",
       "...                                  ...  \n",
       "3312        MATE (2); PHYS (1); ENGI (1)  \n",
       "3313                            VETE (1)  \n",
       "3314        CHEM (3); BIOC (1); PHYS (1)  \n",
       "3315                  PSYC (1); MEDI (1)  \n",
       "3316        IMMU (3); VETE (3); AGRI (3)  \n",
       "\n",
       "[3317 rows x 11 columns]"
      ]
     },
     "execution_count": 25,
     "metadata": {},
     "output_type": "execute_result"
    }
   ],
   "source": [
    "# info de \"Universidad Nacional de La Plata\" a través del identificador '60032057'\n",
    "aff = AffiliationRetrieval(60032057)\n",
    "print(aff)\n",
    "\n",
    "# recupero autores\n",
    "author_search = AuthorSearch('AF-ID(60032057)')\n",
    "df = pd.DataFrame(author_search.authors)\n",
    "\n",
    "df.to_parquet('scopus_authors_sample.parquet.gzip', compression='gzip')  \n",
    "\n",
    "df\n",
    "\n",
    "#ver https://dev.elsevier.com/sc_search_tips.html\n"
   ]
  },
  {
   "cell_type": "markdown",
   "metadata": {},
   "source": [
    "#### Recuperación de publicaciones"
   ]
  },
  {
   "cell_type": "code",
   "execution_count": 24,
   "metadata": {},
   "outputs": [],
   "source": [
    "#### Recuperación de publicaciones\n",
    "\n",
    "#pubs = \n",
    "\n",
    "# Se obtienen las publicaciones de cada autorpara que a partir de la institución de origen de cada autor poder calcular su filiación\n",
    "# Se almacena la filiación de cada autor y las instituciones en parquet"
   ]
  },
  {
   "cell_type": "markdown",
   "metadata": {},
   "source": [
    "## Transformación"
   ]
  },
  {
   "cell_type": "markdown",
   "metadata": {},
   "source": [
    "### Carga"
   ]
  },
  {
   "cell_type": "code",
   "execution_count": 18,
   "metadata": {},
   "outputs": [
    {
     "data": {
      "text/plain": [
       "eid               string\n",
       "orcid             string\n",
       "surname           string\n",
       "initials          string\n",
       "givenname         string\n",
       "affiliation       string\n",
       "documents          Int64\n",
       "affiliation_id    string\n",
       "city              string\n",
       "country           string\n",
       "areas             string\n",
       "dtype: object"
      ]
     },
     "execution_count": 18,
     "metadata": {},
     "output_type": "execute_result"
    }
   ],
   "source": [
    "df = pd.read_parquet('scopus_authors_sample.parquet.gzip', engine='pyarrow')\n",
    "\n",
    "# normalizo tipos de datos\n",
    "df = df.convert_dtypes()\n",
    "df.dtypes"
   ]
  },
  {
   "cell_type": "markdown",
   "metadata": {},
   "source": [
    "\n",
    "### Valores Faltantes\n",
    "\n",
    "94,78 % de autores carece de ORCID, un 0,54 % no registra una ciudad, y aproximadamente 0,15 % no registra ni iniciales ni nombre, mientras que un 0,06 no registra un pais."
   ]
  },
  {
   "cell_type": "code",
   "execution_count": 9,
   "metadata": {},
   "outputs": [
    {
     "name": "stdout",
     "output_type": "stream",
     "text": [
      "orcid             94.784444\n",
      "city               0.542659\n",
      "initials           0.150739\n",
      "givenname          0.150739\n",
      "country            0.060295\n",
      "eid                0.000000\n",
      "surname            0.000000\n",
      "affiliation        0.000000\n",
      "documents          0.000000\n",
      "affiliation_id     0.000000\n",
      "areas              0.000000\n",
      "dtype: float64\n"
     ]
    }
   ],
   "source": [
    "na_ratio = ((df.isnull().sum() / len(df))*100).sort_values(ascending = False)\n",
    "print(na_ratio)"
   ]
  },
  {
   "cell_type": "markdown",
   "metadata": {},
   "source": [
    "### Filiación\n",
    "\n",
    "Calculo la filiación a partir de las fechas de las publicaciones de cada autor "
   ]
  },
  {
   "cell_type": "code",
   "execution_count": 23,
   "metadata": {},
   "outputs": [
    {
     "data": {
      "text/plain": [
       "0    9-s2.0-56114080200\n",
       "Name: eid, dtype: string"
      ]
     },
     "execution_count": 23,
     "metadata": {},
     "output_type": "execute_result"
    }
   ],
   "source": [
    "author_eid = df.head(1)['eid']\n",
    "author_eid"
   ]
  }
 ],
 "metadata": {
  "kernelspec": {
   "display_name": "Python 3.10.6 ('env': venv)",
   "language": "python",
   "name": "python3"
  },
  "language_info": {
   "codemirror_mode": {
    "name": "ipython",
    "version": 3
   },
   "file_extension": ".py",
   "mimetype": "text/x-python",
   "name": "python",
   "nbconvert_exporter": "python",
   "pygments_lexer": "ipython3",
   "version": "3.10.6"
  },
  "orig_nbformat": 4,
  "vscode": {
   "interpreter": {
    "hash": "402e9d702e79e54220823dcec2b3152f1641f1fe840b935c445d833e6d8d2954"
   }
  }
 },
 "nbformat": 4,
 "nbformat_minor": 2
}
