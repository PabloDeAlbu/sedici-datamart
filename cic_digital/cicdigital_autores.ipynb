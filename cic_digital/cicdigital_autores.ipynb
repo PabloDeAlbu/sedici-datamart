{
  "cells": [
    {
      "cell_type": "markdown",
      "metadata": {
        "id": "Y9LCh4WV5fok"
      },
      "source": [
        "## DSpace 7\n",
        "\n",
        "A continuación se hacen consultas a la API de DSpace 7 para recuperar los autores indexados en el browse basado en el índice de Solr de CIC-DIGITAL"
      ]
    },
    {
      "cell_type": "code",
      "execution_count": null,
      "metadata": {
        "id": "rSYVpbx6P8oO"
      },
      "outputs": [],
      "source": [
        "import requests\n",
        "api_url = \"https://host170.sedici.unlp.edu.ar/server/api/discover/browses/author/entries\"\n",
        "response = requests.get(api_url)"
      ]
    },
    {
      "cell_type": "code",
      "execution_count": null,
      "metadata": {
        "colab": {
          "base_uri": "https://localhost:8080/"
        },
        "id": "FiBXDx0SSA7a",
        "outputId": "a0bfd357-968c-4aa3-d51f-269c39181ea5"
      },
      "outputs": [
        {
          "name": "stdout",
          "output_type": "stream",
          "text": [
            "https://host170.sedici.unlp.edu.ar/server/api/discover/browses/author/entries\n"
          ]
        }
      ],
      "source": [
        "last = response.json()['_links']['last']['href']\n",
        "self = response.json()['_links']['self']['href']\n",
        "next = response.json()['_links']['next']['href']\n",
        "print (self)"
      ]
    },
    {
      "cell_type": "code",
      "execution_count": null,
      "metadata": {
        "colab": {
          "base_uri": "https://localhost:8080/"
        },
        "id": "bLRkCeRCS0mW",
        "outputId": "701cc38f-02bd-4b66-e773-bf6c7bee034f"
      },
      "outputs": [
        {
          "name": "stdout",
          "output_type": "stream",
          "text": [
            "http://digital.cic.gba.gob.ar/auth/node/243101 Aboujo, Ana Lía\n",
            "http://digital.cic.gba.gob.ar/auth/node/313062 Abrahamovich, Eliana\n",
            "http://digital.cic.gba.gob.ar/auth/node/312766 Abreu de Utermohlen, Hilda\n",
            "http://digital.cic.gba.gob.ar/auth/node/204416 Abrile, Pablo Oscar\n",
            "http://digital.cic.gba.gob.ar/auth/node/204229 Acciaresi, Horacio Abel\n",
            "http://digital.cic.gba.gob.ar/auth/node/204497 Achinelli, Fabio Germán\n",
            "http://digital.cic.gba.gob.ar/auth/node/314072 Achinelly, María Fernanda \n",
            "http://digital.cic.gba.gob.ar/auth/node/312071 Acosta, Aldo\n",
            "http://digital.cic.gba.gob.ar/auth/node/313572 Acosta, Diana Belén\n",
            "http://digital.cic.gba.gob.ar/auth/node/314447 Acosta, Gerardo G.\n",
            "http://digital.cic.gba.gob.ar/auth/node/311879 Adabbo, Humberto\n",
            "http://digital.cic.gba.gob.ar/auth/node/313904 Ado, Mariana\n",
            "http://digital.cic.gba.gob.ar/auth/node/313088 Adorno, Facundo Gabriel\n",
            "http://digital.cic.gba.gob.ar/auth/node/312716 Adsuara Agut, Lucía\n",
            "http://digital.cic.gba.gob.ar/auth/node/204230 Agamennoni, Osvaldo Enrique\n",
            "http://digital.cic.gba.gob.ar/auth/node/312419 Ageitos de Castellanos, Zulma J.\n",
            "http://digital.cic.gba.gob.ar/auth/node/313768 Aggio, Carlos\n",
            "http://digital.cic.gba.gob.ar/auth/node/242989 Aglietti, Esteban\n",
            "http://digital.cic.gba.gob.ar/auth/node/312195 Agnusdei, Alejandra\n",
            "http://digital.cic.gba.gob.ar/auth/node/243150 Agnusdei, Jorge O.\n",
            "http://digital.cic.gba.gob.ar/auth/node/311968 Agosti, Eduardo D.\n",
            "http://digital.cic.gba.gob.ar/auth/node/313115 Agosti, Francina\n",
            "http://digital.cic.gba.gob.ar/auth/node/314434 Agrazar, Jesuán\n",
            "http://digital.cic.gba.gob.ar/auth/node/204659 Agüero, Matías Emanuel\n",
            "http://digital.cic.gba.gob.ar/auth/node/314483 Aguerre, Lucía\n",
            "http://digital.cic.gba.gob.ar/auth/node/313012 Aguglino, Rubén\n",
            "http://digital.cic.gba.gob.ar/auth/node/243026 Aguilar, Graciela\n"
          ]
        }
      ],
      "source": [
        "# while last is not None:\n",
        "for i in range(0, 4):\n",
        "  response = requests.get(next)\n",
        "  self = response.json()['_links']['self']['href']\n",
        "  next = response.json()['_links']['next']['href']\n",
        "  last = response.json()['_links']['last']['href']\n",
        "  for author in response.json()['_embedded']['entries']:\n",
        "      if (author['authority'] is not None):\n",
        "        print(author['authority'], author['value'])\n",
        "\n",
        "\n"
      ]
    },
    {
      "cell_type": "code",
      "execution_count": null,
      "metadata": {
        "colab": {
          "base_uri": "https://localhost:8080/"
        },
        "id": "dGKN7_y-QZkS",
        "outputId": "5f3c6a06-d365-4e0b-f837-e26417dbe20f"
      },
      "outputs": [
        {
          "data": {
            "text/plain": [
              "{'title': 'Sabbatini, Maria Amalia',\n",
              " 'last_name': 'Sabbatini',\n",
              " 'auth_key': 'http://digital.cic.gba.gob.ar/auth/node/204880',\n",
              " 'name': 'Maria Amalia',\n",
              " 'institution_title': '',\n",
              " 'institution_acronym': 'SAMP'}"
            ]
          },
          "execution_count": 7,
          "metadata": {},
          "output_type": "execute_result"
        }
      ],
      "source": [
        "response = requests.get(\"https://digital.cic.gba.gob.ar/auth/authors/?auth_key=204880\")\n",
        "response.json()[0]"
      ]
    }
  ],
  "metadata": {
    "colab": {
      "provenance": []
    },
    "kernelspec": {
      "display_name": "Python 3.8.13 ('dw')",
      "language": "python",
      "name": "python3"
    },
    "language_info": {
      "codemirror_mode": {
        "name": "ipython",
        "version": 3
      },
      "file_extension": ".py",
      "mimetype": "text/x-python",
      "name": "python",
      "nbconvert_exporter": "python",
      "pygments_lexer": "ipython3",
      "version": "3.8.13"
    },
    "vscode": {
      "interpreter": {
        "hash": "42aa6e2e09442382e19700e69b764e702a22be06bab1eb2e1641527b59004541"
      }
    }
  },
  "nbformat": 4,
  "nbformat_minor": 0
}
